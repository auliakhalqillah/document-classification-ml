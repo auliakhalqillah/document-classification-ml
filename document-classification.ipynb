{
 "metadata": {
  "language_info": {
   "codemirror_mode": {
    "name": "ipython",
    "version": 3
   },
   "file_extension": ".py",
   "mimetype": "text/x-python",
   "name": "python",
   "nbconvert_exporter": "python",
   "pygments_lexer": "ipython3",
   "version": "3.7.7-final"
  },
  "orig_nbformat": 2,
  "kernelspec": {
   "name": "python3",
   "display_name": "Python 3",
   "language": "python"
  }
 },
 "nbformat": 4,
 "nbformat_minor": 2,
 "cells": [
  {
   "source": [
    "# Document Classification\n",
    "\n",
    "Aulia Khalqillah"
   ],
   "cell_type": "markdown",
   "metadata": {}
  },
  {
   "source": [
    "## Memasukan Library"
   ],
   "cell_type": "markdown",
   "metadata": {}
  },
  {
   "cell_type": "code",
   "execution_count": 14,
   "metadata": {},
   "outputs": [],
   "source": [
    "import nltk\n",
    "from nltk.corpus import stopwords\n",
    "from nltk.tokenize import word_tokenize\n",
    "from sklearn.model_selection import train_test_split\n",
    "from sklearn.feature_extraction.text import CountVectorizer\n",
    "from sklearn.ensemble import RandomForestClassifier\n",
    "from sklearn.neighbors import KNeighborsClassifier\n",
    "from sklearn.metrics import r2_score"
   ]
  },
  {
   "source": [
    "## Membaca Data"
   ],
   "cell_type": "markdown",
   "metadata": {}
  },
  {
   "cell_type": "code",
   "execution_count": 2,
   "metadata": {},
   "outputs": [],
   "source": [
    "file = open(\"trainingdata.txt\", \"r\")\n",
    "raw_data = file.readlines() \n",
    "file.close()"
   ]
  },
  {
   "cell_type": "code",
   "execution_count": 3,
   "metadata": {},
   "outputs": [
    {
     "output_type": "stream",
     "name": "stdout",
     "text": [
      "[\"you've\", 'won', 'my', 'most', 'does', 'other', \"won't\", \"don't\", \"you're\", 'me', 'was', \"aren't\", \"wouldn't\", 'below', 'then', 'against', 'yours', 'did', 'by', 'both', 'very', \"should've\", 'weren', 'they', 'each', 'he', 'above', 'few', 'shan', 'so', 've', 'because', 'into', 'some', 'after', \"mightn't\", 'an', 'just', 're', \"hasn't\", 'yourselves', 'under', 'theirs', 'didn', 'our', 'there', 'wasn', 'him', \"that'll\", \"doesn't\", 'but', 'those', 'from', \"you'd\", 'more', 'ourselves', 'doing', \"needn't\", 'out', 'or', 'between', 'o', 'ours', \"it's\", 'themselves', 'too', 'which', 'needn', 'before', 'a', 'is', 'she', \"mustn't\", 'have', 'this', 'am', 'for', 'can', 'been', 'm', \"hadn't\", 'wouldn', 'hasn', 'at', 'not', 'until', \"haven't\", 'what', 'we', \"shouldn't\", 'll', 'mustn', 'herself', \"isn't\", 'further', 'himself', 'hadn', 'down', 'why', 'off', 'in', 'itself', 'couldn', 'her', 'ain', 'ma', 'haven', 'being', 'as', 'shouldn', 'd', 'will', 'only', 'yourself', 'with', 'were', 'you', 'no', 'your', 'their', 'if', \"couldn't\", 'had', 'its', 'on', 'mightn', \"didn't\", \"you'll\", 'same', 'hers', 'having', 'i', 'about', 'own', 'over', 'where', 'any', \"wasn't\", 't', 'again', 'aren', \"weren't\", 'such', 'while', 'who', 'his', 'how', 'once', 'be', 'through', 'are', 'the', 'do', 'than', 'them', 'don', 'now', 'these', \"she's\", 's', 'when', 'during', 'to', 'myself', 'isn', 'nor', 'whom', 'has', 'that', 'y', 'up', 'and', 'it', 'here', 'all', 'should', \"shan't\", 'doesn', 'of']\n"
     ]
    }
   ],
   "source": [
    "stop_words =list(set(stopwords.words('english')))\n",
    "print(stop_words)"
   ]
  },
  {
   "source": [
    "## Mengatur Kembali Data"
   ],
   "cell_type": "markdown",
   "metadata": {}
  },
  {
   "cell_type": "code",
   "execution_count": 4,
   "metadata": {},
   "outputs": [],
   "source": [
    "new_data = []\n",
    "for line in raw_data:\n",
    "    d = line.replace(\"\\n\",\"\")\n",
    "    new_data.append(d)"
   ]
  },
  {
   "cell_type": "code",
   "execution_count": 5,
   "metadata": {},
   "outputs": [],
   "source": [
    "total_line = new_data[0]"
   ]
  },
  {
   "cell_type": "code",
   "execution_count": 6,
   "metadata": {},
   "outputs": [],
   "source": [
    "current_data = new_data[1:]"
   ]
  },
  {
   "source": [
    "## Memisahkan Dokumen dengan Kategori Dokumen"
   ],
   "cell_type": "markdown",
   "metadata": {}
  },
  {
   "cell_type": "code",
   "execution_count": 7,
   "metadata": {},
   "outputs": [],
   "source": [
    "data = []\n",
    "number = []\n",
    "for item in current_data:\n",
    "    n = item[0]\n",
    "    d = item[1:]\n",
    "    number.append(int(n))\n",
    "    data.append(d)"
   ]
  },
  {
   "source": [
    "## Menyaring Dokumen Berdasarkan \"Stopwords\""
   ],
   "cell_type": "markdown",
   "metadata": {}
  },
  {
   "cell_type": "code",
   "execution_count": 8,
   "metadata": {},
   "outputs": [],
   "source": [
    "wt = []\n",
    "filtered_data = []\n",
    "for i in range(int(total_line)):\n",
    "    word_tokens = word_tokenize(data[i])\n",
    "    fd = [w for w in word_tokens if not w in stop_words]\n",
    "    wt.append(word_tokens)\n",
    "    filtered_data.append(' '.join(fd))"
   ]
  },
  {
   "source": [
    "## Mengkonversi Dokumen Menjadi Nilai"
   ],
   "cell_type": "markdown",
   "metadata": {}
  },
  {
   "cell_type": "code",
   "execution_count": 9,
   "metadata": {},
   "outputs": [],
   "source": [
    "vectorize = CountVectorizer(input='content',ngram_range=(1,2))\n",
    "X_train_counts = vectorize.fit_transform(filtered_data)"
   ]
  },
  {
   "source": [
    "## Membuat Model Klasifikasi"
   ],
   "cell_type": "markdown",
   "metadata": {}
  },
  {
   "cell_type": "code",
   "execution_count": 18,
   "metadata": {},
   "outputs": [
    {
     "output_type": "stream",
     "name": "stdout",
     "text": [
      "(3839, 203250)\n(1646, 203250)\n3839\n1646\n"
     ]
    }
   ],
   "source": [
    "X_train,X_test,y_train,y_test = train_test_split(X_train_counts,number,test_size=0.3,random_state=0)\n",
    "print(X_train.shape)\n",
    "print(X_test.shape)\n",
    "print(len(y_train))\n",
    "print(len(y_test))"
   ]
  },
  {
   "source": [
    "## Klasifikasi KNeighbors"
   ],
   "cell_type": "markdown",
   "metadata": {}
  },
  {
   "cell_type": "code",
   "execution_count": 21,
   "metadata": {},
   "outputs": [
    {
     "output_type": "stream",
     "name": "stdout",
     "text": [
      "0.5280933901594841\n"
     ]
    }
   ],
   "source": [
    "knc = KNeighborsClassifier(n_neighbors=8).fit(X_train, y_train)\n",
    "y_predict = knc.predict(X_test)\n",
    "print(r2_score(y_test,y_predict))"
   ]
  },
  {
   "source": [
    "## Klasifikasi Random Forest"
   ],
   "cell_type": "markdown",
   "metadata": {}
  },
  {
   "cell_type": "code",
   "execution_count": 22,
   "metadata": {},
   "outputs": [
    {
     "output_type": "stream",
     "name": "stdout",
     "text": [
      "0.7263591154093929\n"
     ]
    }
   ],
   "source": [
    "rfc = RandomForestClassifier().fit(X_train, y_train)\n",
    "y_predict = rfc.predict(X_test)\n",
    "print(r2_score(y_test,y_predict))"
   ]
  },
  {
   "source": [
    "Model dengan metode Random Forest Classifier (RFC) memberikan hasil yang terbaik sebesar 72% dibandingkan dengan model KNeighbors Classifier (KNC) sebesar 52%. Artinya, model RFC lebih mampu mengkategorikan dokumen dengan baik dibandingkan dengan model KNC."
   ],
   "cell_type": "markdown",
   "metadata": {}
  },
  {
   "source": [
    "## Prediksi Kategori Dokumen"
   ],
   "cell_type": "markdown",
   "metadata": {}
  },
  {
   "cell_type": "code",
   "execution_count": 11,
   "metadata": {},
   "outputs": [],
   "source": [
    "X_new_counts = vectorize.transform(filtered_data)"
   ]
  },
  {
   "cell_type": "code",
   "execution_count": 23,
   "metadata": {},
   "outputs": [
    {
     "output_type": "stream",
     "name": "stdout",
     "text": [
      "R2 SCORE OF RFC: 0.9196175033373192\n"
     ]
    },
    {
     "output_type": "execute_result",
     "data": {
      "text/plain": [
       "array([1, 2, 1, ..., 1, 2, 4])"
      ]
     },
     "metadata": {},
     "execution_count": 23
    }
   ],
   "source": [
    "rfc_predict = rfc.predict(X_new_counts)\n",
    "print('R2 SCORE OF RFC:',r2_score(number,rfc_predict))\n",
    "rfc_predict"
   ]
  },
  {
   "source": [
    "## Kesimpulan"
   ],
   "cell_type": "markdown",
   "metadata": {}
  },
  {
   "source": [
    "Sebesar 91% dokumen berhasil dikategorikan untuk masing-masing rentang kategori dari 1-8. Presentase ini cukup besar untuk menunjukan bahwa  dokumen yang dikategorikan sudah mendekati pengkategorian yang baik."
   ],
   "cell_type": "markdown",
   "metadata": {}
  }
 ]
}